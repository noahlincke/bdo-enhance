{
 "cells": [
  {
   "cell_type": "code",
   "execution_count": 1,
   "metadata": {},
   "outputs": [],
   "source": [
    "import pandas as pd\n",
    "import numpy as np\n",
    "import matplotlib.pyplot as plt"
   ]
  },
  {
   "cell_type": "code",
   "execution_count": 2,
   "metadata": {},
   "outputs": [],
   "source": [
    "penPrice=16.9e9\n",
    "tetPrice=1.65e9\n",
    "triPrice=755000000\n",
    "memoryFragPrice=1330000\n",
    "concbsPrice=2700000\n",
    "marketplaceTax=0.845\n",
    "\n",
    "perFailStack=0.03\n",
    "startingStack=140\n",
    "nRuns=1000000 #change for tests, 1,000,000 will take a while"
   ]
  },
  {
   "cell_type": "code",
   "execution_count": 3,
   "metadata": {},
   "outputs": [
    {
     "name": "stdout",
     "output_type": "stream",
     "text": [
      "0\n",
      "10000\n",
      "20000\n",
      "30000\n",
      "40000\n",
      "50000\n",
      "60000\n",
      "70000\n",
      "80000\n",
      "90000\n",
      "100000\n",
      "110000\n",
      "120000\n",
      "130000\n",
      "140000\n",
      "150000\n",
      "160000\n",
      "170000\n",
      "180000\n",
      "190000\n",
      "200000\n",
      "210000\n",
      "220000\n",
      "230000\n",
      "240000\n",
      "250000\n",
      "260000\n",
      "270000\n",
      "280000\n",
      "290000\n",
      "300000\n",
      "310000\n",
      "320000\n",
      "330000\n",
      "340000\n",
      "350000\n",
      "360000\n",
      "370000\n",
      "380000\n",
      "390000\n",
      "400000\n",
      "410000\n",
      "420000\n",
      "430000\n",
      "440000\n",
      "450000\n",
      "460000\n",
      "470000\n",
      "480000\n",
      "490000\n",
      "500000\n",
      "510000\n",
      "520000\n",
      "530000\n",
      "540000\n",
      "550000\n",
      "560000\n",
      "570000\n",
      "580000\n",
      "590000\n",
      "600000\n",
      "610000\n",
      "620000\n",
      "630000\n",
      "640000\n",
      "650000\n",
      "660000\n",
      "670000\n",
      "680000\n",
      "690000\n",
      "700000\n",
      "710000\n",
      "720000\n",
      "730000\n",
      "740000\n",
      "750000\n",
      "760000\n",
      "770000\n",
      "780000\n",
      "790000\n",
      "800000\n",
      "810000\n",
      "820000\n",
      "830000\n",
      "840000\n",
      "850000\n",
      "860000\n",
      "870000\n",
      "880000\n",
      "890000\n",
      "900000\n",
      "910000\n",
      "920000\n",
      "930000\n",
      "940000\n",
      "950000\n",
      "960000\n",
      "970000\n",
      "980000\n",
      "990000\n"
     ]
    }
   ],
   "source": [
    "uncronCosts=pd.Series(dtype=pd.StringDtype())\n",
    "uncronTries=pd.Series(dtype=pd.StringDtype())\n",
    "for i in range(0,nRuns):\n",
    "    if (i%10000==0):\n",
    "        print(i)\n",
    "    runningCost=0\n",
    "    tries=0\n",
    "    stack=startingStack\n",
    "    while True:\n",
    "        tries+=1\n",
    "        rand=np.random.random()\n",
    "#         print(\"rand\",rand)\n",
    "        chance=(0.03000*stack)+0.30 #remember for non-pen this is not always true\n",
    "#         print(\"chance\",0.01*chance)\n",
    "        upgraded=rand<(0.01*chance)\n",
    "        if (upgraded):\n",
    "#             print(\"yessirrrr\")\n",
    "            runningCost=runningCost+concbsPrice\n",
    "            user=pd.Series([runningCost])\n",
    "            uncronCosts=uncronCosts.append(user)\n",
    "            userTry=pd.Series([tries])\n",
    "            uncronTries=uncronTries.append(userTry)\n",
    "            break;\n",
    "        else:\n",
    "            stack+=6\n",
    "            runningCost=runningCost+((tetPrice-(marketplaceTax*triPrice))+(5*memoryFragPrice)+concbsPrice)\n",
    "#         print(\"Try number: \",tries, \" , Chance was: \", round(chance,3), \"%. I am currently \", runningCost, \" silver deep.\")\n",
    "#     print(\"\\n\\n\")"
   ]
  },
  {
   "cell_type": "code",
   "execution_count": 16,
   "metadata": {},
   "outputs": [
    {
     "name": "stdout",
     "output_type": "stream",
     "text": [
      "Mean cost:  14.5445 bil\n",
      "Median cost:  12.2592 bil\n",
      "Mean tries:  15.2374\n",
      "Median tries:  13.0\n",
      "Min cost:  0.0027 bil\tTries:  1\n",
      "Max cost:  120.525 bil\tTries:  119\n",
      "Probability of profit:  64.7968\n",
      "Probability of half price or less:  38.365700000000004\n",
      "Probability of double price or more:  7.0842\n"
     ]
    },
    {
     "data": {
      "image/png": "[encoded data removed]",
      "text/plain": [
       "<Figure size 432x288 with 1 Axes>"
      ]
     },
     "metadata": {
      "needs_background": "light"
     },
     "output_type": "display_data"
    }
   ],
   "source": [
    "uncronCosts.plot.hist(grid=True,range=(0,1e11),bins=20, color='#34b1eb', label=\"_none\")\n",
    "titleString='Cost of getting Pen Dande Uncronned: '+ str(nRuns)+' Simulated Users'\n",
    "plt.title(titleString)\n",
    "plt.xlabel('Cost (Hundred Billions, i.e. 0-100 bil)')\n",
    "plt.axvline(x=penPrice, color='r', linestyle='dashed', linewidth=2, label=\"Marketplace Price\")\n",
    "plt.legend()\n",
    "\n",
    "print(\"Mean cost: \", round(uncronCosts.mean()/1e9, 4), \"bil\")\n",
    "print(\"Median cost: \",round(uncronCosts.median()/1e9, 4), \"bil\")\n",
    "print(\"Mean tries: \", round(uncronTries.mean(), 4))\n",
    "print(\"Median tries: \", round(uncronTries.median(), 4))\n",
    "print(\"Min cost: \", round(uncronCosts.min()/1e9, 4), \"bil\\tTries: \", uncronTries.min())\n",
    "print(\"Max cost: \", round(uncronCosts.max()/1e9, 4), \"bil\\tTries: \", uncronTries.max())\n",
    "print(\"Probability of profit: \", ((uncronCosts<penPrice).sum()/nRuns)*100)\n",
    "print(\"Probability of half price or less: \", ((uncronCosts<(0.5*penPrice)).sum()/nRuns)*100)\n",
    "print(\"Probability of double price or more: \", ((uncronCosts>(2*penPrice)).sum()/nRuns)*100)"
   ]
  },
  {
   "cell_type": "code",
   "execution_count": 5,
   "metadata": {},
   "outputs": [],
   "source": [
    "cronPrice=620257575\n",
    "startingStack=140"
   ]
  },
  {
   "cell_type": "code",
   "execution_count": 6,
   "metadata": {},
   "outputs": [
    {
     "name": "stdout",
     "output_type": "stream",
     "text": [
      "0\n",
      "10000\n",
      "20000\n",
      "30000\n",
      "40000\n",
      "50000\n",
      "60000\n",
      "70000\n",
      "80000\n",
      "90000\n",
      "100000\n",
      "110000\n",
      "120000\n",
      "130000\n",
      "140000\n",
      "150000\n",
      "160000\n",
      "170000\n",
      "180000\n",
      "190000\n",
      "200000\n",
      "210000\n",
      "220000\n",
      "230000\n",
      "240000\n",
      "250000\n",
      "260000\n",
      "270000\n",
      "280000\n",
      "290000\n",
      "300000\n",
      "310000\n",
      "320000\n",
      "330000\n",
      "340000\n",
      "350000\n",
      "360000\n",
      "370000\n",
      "380000\n",
      "390000\n",
      "400000\n",
      "410000\n",
      "420000\n",
      "430000\n",
      "440000\n",
      "450000\n",
      "460000\n",
      "470000\n",
      "480000\n",
      "490000\n",
      "500000\n",
      "510000\n",
      "520000\n",
      "530000\n",
      "540000\n",
      "550000\n",
      "560000\n",
      "570000\n",
      "580000\n",
      "590000\n",
      "600000\n",
      "610000\n",
      "620000\n",
      "630000\n",
      "640000\n",
      "650000\n",
      "660000\n",
      "670000\n",
      "680000\n",
      "690000\n",
      "700000\n",
      "710000\n",
      "720000\n",
      "730000\n",
      "740000\n",
      "750000\n",
      "760000\n",
      "770000\n",
      "780000\n",
      "790000\n",
      "800000\n",
      "810000\n",
      "820000\n",
      "830000\n",
      "840000\n",
      "850000\n",
      "860000\n",
      "870000\n",
      "880000\n",
      "890000\n",
      "900000\n",
      "910000\n",
      "920000\n",
      "930000\n",
      "940000\n",
      "950000\n",
      "960000\n",
      "970000\n",
      "980000\n",
      "990000\n"
     ]
    }
   ],
   "source": [
    "cronCosts=pd.Series(dtype=pd.StringDtype())\n",
    "cronTries=pd.Series(dtype=pd.StringDtype())\n",
    "for i in range(0,nRuns):\n",
    "    if (i%10000==0):\n",
    "        print(i)\n",
    "    runningCost=0\n",
    "    tries=0\n",
    "    stack=startingStack\n",
    "    while True:\n",
    "        tries+=1\n",
    "        rand=np.random.random()\n",
    "#         print(\"rand\",rand)\n",
    "        chance=(0.03*stack)+0.30\n",
    "#         print(\"chance\",0.01*chance)\n",
    "        upgraded=rand<(0.01*chance)\n",
    "        if (upgraded):\n",
    "#             print(\"yessirrrr\")\n",
    "            runningCost=runningCost+(concbsPrice+cronPrice)\n",
    "            userCost=pd.Series([runningCost])\n",
    "            cronCosts=cronCosts.append(userCost)\n",
    "            userTry=pd.Series([tries])\n",
    "            cronTries=cronTries.append(userTry)\n",
    "            break;\n",
    "        else:\n",
    "            runningCost=runningCost+cronPrice+(10*memoryFragPrice)+concbsPrice\n",
    "#         print(\"Try number: \",tries, \" , Chance was: \", round(chance,3), \"%. I am currently \", runningCost, \" silver deep.\")\n",
    "#     print(\"\\n\\n\")"
   ]
  },
  {
   "cell_type": "code",
   "execution_count": 17,
   "metadata": {},
   "outputs": [
    {
     "name": "stdout",
     "output_type": "stream",
     "text": [
      "Mean cost:  14.1376 bil\n",
      "Median cost:  10.1668 bil\n",
      "Mean tries:  22.2408\n",
      "Median tries:  16.0\n",
      "Min cost:  0.623 bil\tTries:  1\n",
      "Max cost:  202.3166 bil\tTries:  318\n",
      "Probability of any amount of profit:  69.73310000000001\n",
      "Probability of half price or less:  45.0314\n",
      "Probability of double price or more:  8.732800000000001\n"
     ]
    },
    {
     "data": {
      "image/png": "[encoded data removed]",
      "text/plain": [
       "<Figure size 432x288 with 1 Axes>"
      ]
     },
     "metadata": {
      "needs_background": "light"
     },
     "output_type": "display_data"
    }
   ],
   "source": [
    "cronCosts.plot.hist(grid=True,range=(0,1e11),bins=20, color='#34b1eb', label=\"_none\")\n",
    "titleString='Cost of getting Pen Dande Cronned: '+ str(nRuns)+' Simulated Users'\n",
    "plt.title(titleString)\n",
    "plt.xlabel('Cost (Hundred Billions, i.e. 0-100 bil)')\n",
    "plt.axvline(x=penPrice, color='r', linestyle='dashed', linewidth=2, label=\"Marketplace Price\")\n",
    "plt.legend()\n",
    "\n",
    "print(\"Mean cost: \", round(cronCosts.mean()/1e9, 4), \"bil\")\n",
    "print(\"Median cost: \",round(cronCosts.median()/1e9, 4), \"bil\")\n",
    "print(\"Mean tries: \", round(cronTries.mean(), 4))\n",
    "print(\"Median tries: \", round(cronTries.median(), 4))\n",
    "print(\"Min cost: \", round(cronCosts.min()/1e9, 4), \"bil\\tTries: \", cronTries.min())\n",
    "print(\"Max cost: \", round(cronCosts.max()/1e9, 4), \"bil\\tTries: \", cronTries.max())\n",
    "print(\"Probability of any amount of profit: \", ((cronCosts<penPrice).sum()/nRuns)*100)\n",
    "print(\"Probability of half price or less: \", ((cronCosts<(0.5*penPrice)).sum()/nRuns)*100)\n",
    "print(\"Probability of double price or more: \", ((cronCosts>(2*penPrice)).sum()/nRuns)*100)"
   ]
  },
  {
   "cell_type": "code",
   "execution_count": 8,
   "metadata": {},
   "outputs": [],
   "source": [
    "results=pd.DataFrame({'Uncronned Costs':uncronCosts,'Uncronned Tries':uncronTries,\n",
    "                      'Cronned Costs':cronCosts,'Cronned Tries':cronTries})\n",
    "results.to_csv('dandelionSimulator.csv')"
   ]
  },
  {
   "cell_type": "code",
   "execution_count": 12,
   "metadata": {},
   "outputs": [
    {
     "ename": "SyntaxError",
     "evalue": "invalid syntax (<ipython-input-12-62485582b6da>, line 6)",
     "output_type": "error",
     "traceback": [
      "\u001b[0;36m  File \u001b[0;32m\"<ipython-input-12-62485582b6da>\"\u001b[0;36m, line \u001b[0;32m6\u001b[0m\n\u001b[0;31m    while (userIn)\u001b[0m\n\u001b[0m                  ^\u001b[0m\n\u001b[0;31mSyntaxError\u001b[0m\u001b[0;31m:\u001b[0m invalid syntax\n"
     ]
    }
   ],
   "source": [
    "\n"
   ]
  },
  {
   "cell_type": "code",
   "execution_count": null,
   "metadata": {},
   "outputs": [],
   "source": []
  }
 ],
 "metadata": {
  "kernelspec": {
   "display_name": "Python 3",
   "language": "python",
   "name": "python3"
  },
  "language_info": {
   "codemirror_mode": {
    "name": "ipython",
    "version": 3
   },
   "file_extension": ".py",
   "mimetype": "text/x-python",
   "name": "python",
   "nbconvert_exporter": "python",
   "pygments_lexer": "ipython3",
   "version": "3.7.6"
  }
 },
 "nbformat": 4,
 "nbformat_minor": 4
}
